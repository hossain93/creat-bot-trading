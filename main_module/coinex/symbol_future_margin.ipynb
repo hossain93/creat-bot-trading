{
 "cells": [
  {
   "cell_type": "markdown",
   "id": "b99f8f43",
   "metadata": {},
   "source": [
    "# margin"
   ]
  },
  {
   "cell_type": "code",
   "execution_count": 1,
   "id": "d9bd3915",
   "metadata": {},
   "outputs": [
    {
     "name": "stdout",
     "output_type": "stream",
     "text": [
      "        margin\n",
      "0     BTC/USDT\n",
      "1     ETH/USDT\n",
      "2     BCH/USDT\n",
      "3     LTC/USDT\n",
      "4     BSV/USDT\n",
      "..         ...\n",
      "106  REEF/USDT\n",
      "107  CTSI/USDT\n",
      "108   INJ/USDT\n",
      "109   RLC/USDT\n",
      "110   XNO/USDT\n",
      "\n",
      "[111 rows x 1 columns]\n"
     ]
    }
   ],
   "source": [
    "import requests\n",
    "import pandas as pd\n",
    "url = \"https://api.coinex.com/v1/margin/market\"\n",
    "\n",
    "payload={}\n",
    "files={}\n",
    "headers = {}\n",
    "\n",
    "margin = requests.request(\"GET\", url, headers=headers, data=payload, files=files)\n",
    "margin=margin.json()\n",
    "margin=margin['data']\n",
    "margin=pd.DataFrame([margin.keys()]).T\n",
    "margin = margin.rename({0: 'margin'}, axis=1)\n",
    "i=1\n",
    "while i< len(margin):\n",
    "    \n",
    "    t=margin.loc[i,'margin']\n",
    "    usdt=t[-4]+t[-3]+t[-2]+t[-1]\n",
    "    if usdt!='USDT':\n",
    "#         print(i)\n",
    "#         print(margin.loc[i,'margin'])\n",
    "        margin.drop(i,inplace=True)\n",
    "        margin.reset_index(drop=True,inplace=True)\n",
    "        i=i-1\n",
    "    i=i+1\n",
    "for i in range(len(margin)):\n",
    "    t=margin.loc[i,'margin']\n",
    "    t=t.split('USDT')[0]\n",
    "    margin.loc[i,'margin']=t+'/'+'USDT'\n",
    "print(margin)"
   ]
  },
  {
   "cell_type": "markdown",
   "id": "a4e72ff2",
   "metadata": {},
   "source": [
    "# future"
   ]
  },
  {
   "cell_type": "code",
   "execution_count": null,
   "id": "3cdb9adc",
   "metadata": {},
   "outputs": [],
   "source": [
    "import requests\n",
    "import pandas as pd\n",
    "url = \"https://api.coinex.com/perpetual/v1/market/list\"\n",
    "\n",
    "payload={}\n",
    "files={}\n",
    "headers = {}\n",
    "\n",
    "response = requests.request(\"GET\", url, headers=headers, data=payload, files=files)    \n",
    "response=response.json()  \n",
    "response=response['data']\n",
    "response=pd.DataFrame(response)\n",
    "response.drop(response.loc[response['money']!='USDT'].index, inplace=True)\n",
    "symbol=response['stock']+'/'+response['money']\n",
    "symbol"
   ]
  }
 ],
 "metadata": {
  "kernelspec": {
   "display_name": "Python 3 (ipykernel)",
   "language": "python",
   "name": "python3"
  },
  "language_info": {
   "codemirror_mode": {
    "name": "ipython",
    "version": 3
   },
   "file_extension": ".py",
   "mimetype": "text/x-python",
   "name": "python",
   "nbconvert_exporter": "python",
   "pygments_lexer": "ipython3",
   "version": "3.7.2"
  }
 },
 "nbformat": 4,
 "nbformat_minor": 5
}
